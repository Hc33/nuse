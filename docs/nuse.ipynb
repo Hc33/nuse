{
  "nbformat": 4,
  "nbformat_minor": 0,
  "metadata": {
    "colab": {
      "name": "nuse.ipynb",
      "version": "0.3.2",
      "provenance": [],
      "toc_visible": true,
      "include_colab_link": true
    },
    "kernelspec": {
      "name": "python3",
      "display_name": "Python 3"
    },
    "accelerator": "GPU"
  },
  "cells": [
    {
      "cell_type": "markdown",
      "metadata": {
        "id": "view-in-github",
        "colab_type": "text"
      },
      "source": [
        "<a href=\"https://colab.research.google.com/github/oopsno/nuse/blob/master/docs/nuse.ipynb\" target=\"_parent\"><img src=\"https://colab.research.google.com/assets/colab-badge.svg\" alt=\"Open In Colab\"/></a>"
      ]
    },
    {
      "cell_type": "markdown",
      "metadata": {
        "id": "tdw-pgqGH9DW",
        "colab_type": "text"
      },
      "source": [
        "# 获取数据\n",
        "\n",
        "要在 Colab 中尝试运行 oopsno/nuse，首先需要获取 MoNuSeg 数据集。\n",
        "\n",
        "\n",
        "将以下三个文件转存到 `[你的Google Drive]/nuse/` 目录下以完成数据获取工作。\n",
        "\n",
        "\n",
        "- https://drive.google.com/open?id=1gER1yzLZu-J1ehLHExfZ5sepFWvl4N3E\n",
        "- https://drive.google.com/open?id=1-7kj7cYStrlORMjT1DXGX7x0TtVSxQyG\n",
        "- https://drive.google.com/open?id=1xT1yVbScnEAhSlQunTv2E_LraoS3aqwC"
      ]
    },
    {
      "cell_type": "markdown",
      "metadata": {
        "id": "wAYQ0Qhof72H",
        "colab_type": "text"
      },
      "source": [
        "# Colab 环境预备\n",
        "\n",
        "Colab 环境预备共分三步\n",
        "\n",
        "- 挂载 Google Drive\n",
        "- 克隆 oopsno/nuse 并安装依赖 Python\n",
        "- 配置 Visdom"
      ]
    },
    {
      "cell_type": "markdown",
      "metadata": {
        "id": "yv4v5H96--gk",
        "colab_type": "text"
      },
      "source": [
        "## 挂载 Google Drive 到 `/content/gdrive`\n",
        "\n",
        "\n",
        "运行以下代码并按照说明操作"
      ]
    },
    {
      "cell_type": "code",
      "metadata": {
        "id": "RHm-ooxWbxN5",
        "colab_type": "code",
        "colab": {}
      },
      "source": [
        "from google.colab import drive\n",
        "drive.mount('/content/gdrive')"
      ],
      "execution_count": 0,
      "outputs": []
    },
    {
      "cell_type": "markdown",
      "metadata": {
        "id": "KBp__xw0_GYi",
        "colab_type": "text"
      },
      "source": [
        "##  克隆 oopsno/nuse 并安装依赖\n",
        "\n",
        "说明：移除 albumentat 是为了解决 Colab 运行时的下预装的 Python 包和 oopsno/nuse 的依赖项之间的冲突。"
      ]
    },
    {
      "cell_type": "code",
      "metadata": {
        "id": "6U0Vu2KshFAo",
        "colab_type": "code",
        "colab": {}
      },
      "source": [
        "%%sh\n",
        "NUSE_ROOT=\"/content/nuse-root\"\n",
        "git clone https://github.com/oopsno/nuse.git $NUSE_ROOT\n",
        "ln -s $NUSE_ROOT/nuse /content\n",
        "yes | pip uninstall albumentations\n",
        "pip install -r $NUSE_ROOT/requirements.txt"
      ],
      "execution_count": 0,
      "outputs": []
    },
    {
      "cell_type": "markdown",
      "metadata": {
        "id": "9a7jaPTT_OJS",
        "colab_type": "text"
      },
      "source": [
        "## 配置 Visdom\n",
        "\n",
        "### 安装 ngrok \n",
        "\n",
        "安装 ngrok 以在任何地方访问 visdom。详情参见：https://ngrok.com/"
      ]
    },
    {
      "cell_type": "code",
      "metadata": {
        "id": "YTKsQvEb2UAB",
        "colab_type": "code",
        "colab": {}
      },
      "source": [
        "%%sh\n",
        "if [ ! -f ngrok ] ; then\n",
        "    wget -q https://bin.equinox.io/c/4VmDzA7iaHb/ngrok-stable-linux-amd64.zip\n",
        "    unzip ngrok-stable-linux-amd64.zip\n",
        "fi"
      ],
      "execution_count": 0,
      "outputs": []
    },
    {
      "cell_type": "markdown",
      "metadata": {
        "id": "jCRELUO__2f6",
        "colab_type": "text"
      },
      "source": [
        "### 启动 Visdom 和 Ngrok 并设置隧道\n",
        "\n",
        "以下代码所打印的结果即可用于直接访问 visdom"
      ]
    },
    {
      "cell_type": "code",
      "metadata": {
        "id": "192dlmIklLYq",
        "colab_type": "code",
        "cellView": "both",
        "colab": {}
      },
      "source": [
        "import subprocess\n",
        "import json\n",
        "import time\n",
        "\n",
        "visdom_process = subprocess.Popen(['visdom'], stdout=subprocess.DEVNULL)\n",
        "ngrok_process = subprocess.Popen(['./ngrok', 'http', '8097'], stdout=subprocess.PIPE)\n",
        "\n",
        "while True:\n",
        "    try:\n",
        "        curl_process = subprocess.Popen(['curl', '-s', 'http://localhost:4040/api/tunnels'], stdout=subprocess.PIPE)\n",
        "        tunnel_json, _ = curl_process.communicate()\n",
        "        print('Visdom 已启动，请访问:', json.loads(tunnel_json)['tunnels'][0]['public_url'])\n",
        "    except:\n",
        "        time.sleep(1) # 等待上述进程启动\n",
        "    else:\n",
        "        break"
      ],
      "execution_count": 0,
      "outputs": []
    },
    {
      "cell_type": "markdown",
      "metadata": {
        "id": "2e400OZD_-bD",
        "colab_type": "text"
      },
      "source": [
        "### 终止 Visdom 和 Ngrok\n",
        "\n",
        "终止 visdom 和 ngrok 有三种方法\n",
        "\n",
        "- 等待当前代码执行程序因超时而终止\n",
        "- 手工重启代码执行环境\n",
        "- 使用以下代码"
      ]
    },
    {
      "cell_type": "code",
      "metadata": {
        "id": "DSo0orV2opGb",
        "colab_type": "code",
        "colab": {}
      },
      "source": [
        "def terminate_visdom_ngrok():\n",
        "    global visdom_process, ngrok_process\n",
        "    try:\n",
        "        visdom_process.kill()\n",
        "        ngrok_process.kill()\n",
        "    except:\n",
        "        print('未找到进程')"
      ],
      "execution_count": 0,
      "outputs": []
    },
    {
      "cell_type": "markdown",
      "metadata": {
        "id": "kpnz1p-F-udr",
        "colab_type": "text"
      },
      "source": [
        "#  准备数据\n",
        "\n",
        "运行以下代码以从原始数据中准备训练所需的数据并将之缓存于 Google Drice。\n",
        "这一过程需要长达数分钟的运行时间。\n",
        "为了缓解等待，以下代码会优先检查 Google Drive 中的缓存。\n",
        "\n",
        "**注意：修改与数据相关的代码后，请手动删除缓存并重新打包数据，以免产生难以排除的错误。**"
      ]
    },
    {
      "cell_type": "code",
      "metadata": {
        "id": "cjEzlQjB5BgT",
        "colab_type": "code",
        "colab": {}
      },
      "source": [
        "%%sh\n",
        "\n",
        "NUSE_ROOT=\"/content/nuse-root\"\n",
        "GDRIVE=\"/content/gdrive/My Drive\"\n",
        "GDRIVE_MONUSEG_PTH=\"$GDRIVE/nuse/monuseg.pth\"\n",
        "GDRIVE_MONUSEG_ZIP=\"$GDRIVE/nuse/MoNuSegTrainingData.zip\"\n",
        "LOCAL_PTH=\"$NUSE_ROOT/monuseg.pth\"\n",
        "\n",
        "if [ -f \"$GDRIVE_MONUSEG_PTH\" ] ; then\n",
        "  echo \"Using cached '$GDRIVE_MONUSEG_PTH' -> '$LOCAL_PTH'\"\n",
        "  cp \"$GDRIVE_MONUSEG_PTH\" \"$LOCAL_PTH\"\n",
        "else\n",
        "  echo \"Building '$LOCAL_PTH'\"\n",
        "  pip install spams\n",
        "  cd /content/nuse/MoNuSeg\n",
        "  python prepare_data.py \"$GDRIVE_MONUSEG_ZIP\" \"$LOCAL_PTH\"\n",
        "  echo \"Caching '$LOCAL_PTH' -> '$GDRIVE_MONUSEG_PTH'\"\n",
        "  cp \"$LOCAL_PTH\" \"$GDRIVE_MONUSEG_PTH\"\n",
        "fi"
      ],
      "execution_count": 0,
      "outputs": []
    },
    {
      "cell_type": "markdown",
      "metadata": {
        "id": "dEAG_KNG-2Jn",
        "colab_type": "text"
      },
      "source": [
        "# 启动训练\n",
        "\n",
        "\n",
        "## 检查运行时\n",
        "\n",
        "如果当前 Colab 代码执行程序配置正确，运行以下代码将打印可用的 GPU 信息"
      ]
    },
    {
      "cell_type": "code",
      "metadata": {
        "id": "AIh9YSvpCJ9n",
        "colab_type": "code",
        "colab": {}
      },
      "source": [
        "import torch.cuda\n",
        "\n",
        "p = None\n",
        "\n",
        "if torch.cuda.device_count() == 0:\n",
        "    print('未找到 GPU, 请重新配置 Colab 的代码执行程序')\n",
        "else:\n",
        "    for device_id in range(torch.cuda.device_count()):\n",
        "        p = torch.cuda.get_device_properties(device_id)\n",
        "        print(f'GPU {device_id}')\n",
        "        print(f'  NAME = {p.name}')\n",
        "        print(f'  ARCH = {p.major}.{p.minor}')\n",
        "        print(f'  GRAM = {p.total_memory}')"
      ],
      "execution_count": 0,
      "outputs": []
    },
    {
      "cell_type": "markdown",
      "metadata": {
        "id": "XjeaocJzCKFf",
        "colab_type": "text"
      },
      "source": [
        "\n",
        "## 短期训练\n",
        "\n",
        "在 Google Colab 提供的免费的 Tesls T4 上实验性的训练模型。\n",
        "\n",
        "\n",
        "在训练过程中，可以通过之前步骤创建的 visdom 实时地观察训练过程中的各项指标和中间结果的变化。\n",
        "\n",
        "注意事项：\n",
        "\n",
        "- 考虑到 Google Colab 对免费 GPU 的限制使用，这里仅仅训练 16 代，大约需要 10 分钟\n",
        "- 请确保当前代码执行程序的硬件加速器已设置为 **GPU**\n",
        "- 训练过程默认记录在 visdom 中的 `resunet_dice` 环境下，需要在 visdom 页面顶部手切换\n",
        "- 文本形式的日志记录在文件 `/content/nuse/nuse.log` 中\n",
        "- 训练产生的权重文件存储于 Google Drive 的  `/nuse/snapshot` 目录下"
      ]
    },
    {
      "cell_type": "code",
      "metadata": {
        "id": "IGZ_b_I15ghZ",
        "colab_type": "code",
        "colab": {}
      },
      "source": [
        "%%sh\n",
        "NUSE_ROOT=\"/content/nuse-root\"\n",
        "mkdir -p \"/content/gdrive/My Drive/nuse/snapshor\"\n",
        "cd $NUSE_ROOT\n",
        "python train.py --max_epochs 16 --snapshot_dir \"/content/gdrive/My Drive/nuse/snapshor\" --batch_size 8"
      ],
      "execution_count": 0,
      "outputs": []
    },
    {
      "cell_type": "markdown",
      "metadata": {
        "id": "gjelXbKKGcSj",
        "colab_type": "text"
      },
      "source": [
        "## 检查训练结果\n",
        "\n",
        "运行以下代码以检查经过 16 代训练之后的模型在 MoNuSeg 测试集中的各个样本上取得的 AJI 以及整体均值。"
      ]
    },
    {
      "cell_type": "code",
      "metadata": {
        "id": "D31vOF8HE2gQ",
        "colab_type": "code",
        "colab": {}
      },
      "source": [
        "%%sh\n",
        "grep AJI $ROOT/nuse.log"
      ],
      "execution_count": 0,
      "outputs": []
    },
    {
      "cell_type": "markdown",
      "metadata": {
        "id": "ezO37INhGYgX",
        "colab_type": "text"
      },
      "source": [
        "如果配置正确，即使仅仅经过了十分钟的训练，整体 AJI 也应该在 0.5 以上。"
      ]
    },
    {
      "cell_type": "markdown",
      "metadata": {
        "id": "_fv2XH81NMcI",
        "colab_type": "text"
      },
      "source": [
        "# 可视化\n",
        "\n",
        "注意：为了获得观感更好的结果，这一部分加载的是经过充分训练的模型。"
      ]
    },
    {
      "cell_type": "code",
      "metadata": {
        "id": "OQ4dXL9XMkgu",
        "colab_type": "code",
        "colab": {}
      },
      "source": [
        "import torch\n",
        "import nuse.nn.resunet\n",
        "import nuse.nn.dpunet\n",
        "import nuse.monuseg\n",
        "import nuse.metrics\n",
        "import nuse.utils.cnn3_decoder\n",
        "from torchvision.transforms.functional import to_pil_image\n",
        "from torch.nn.functional import interpolate\n",
        "import PIL.Image\n",
        "import numpy as np\n",
        "\n",
        "WEIGHTS = '/content/gdrive/My Drive/nuse/resunet_dice_pretrained.pth'\n",
        "\n",
        "def initialize_model():\n",
        "    # 创建模型并加载权重\n",
        "    m = nuse.nn.resunet.ResUNet(False).eval()\n",
        "    m.load_state_dict(torch.load(WEIGHTS, 'cpu'))\n",
        "    return m\n",
        "\n",
        "def load_test_data():\n",
        "    # 加载第一张测试数据\n",
        "    ds = nuse.monuseg.MoNuSeg('/content/nuse-root/monuseg.pth', testing=True)\n",
        "    x = ds[0]\n",
        "    x = x.unsqueeze(0)\n",
        "    return x\n",
        "\n",
        "@torch.no_grad()\n",
        "def inference(m, x):\n",
        "    h = torch.sigmoid(m(x))\n",
        "    return h[0, 1:, 12:1012, 12:1012]  # 切除用于对其图片大小的零填充\n",
        "\n",
        "\n",
        "def decode_inference(h, threshold=0.5):\n",
        "    boundary, inside = h\n",
        "    boundary = (boundary > threshold).int()\n",
        "    inside = (((inside > threshold).int() - boundary) > threshold).byte().numpy()\n",
        "    boundary = boundary.byte().cpu().numpy()\n",
        "    inside = nuse.metrics.area_filter(inside, threshold=32)\n",
        "    inside = cv2.erode(inside, np.array([[0, 1, 1], [1, 1, 1], [0, 1, 1]], dtype=np.uint8))\n",
        "    decoded = nuse.utils.cnn3_decoder.decode(boundary, inside).astype(np.uint8)\n",
        "    result = nuse.metrics.area_filter(decoded, threshold=32)\n",
        "    return result\n",
        "\n",
        "\n",
        "def visualize(h):\n",
        "    _, height, width = h.size()\n",
        "    decoded = decode_inference(h)\n",
        "    decoded = to_pil_image(torch.from_numpy(decoded).float())\n",
        "    boundary = to_pil_image((h[0] > 0.5).byte() * 255)\n",
        "    inside = to_pil_image((h[1] > 0.5).byte() * 255)\n",
        "    canvas = PIL.Image.new('RGB', (3 * width + 2, height), color=(255, 0, 0))\n",
        "    canvas.paste(boundary, (0, 0))\n",
        "    canvas.paste(inside,   (1 * width + 1, 0))\n",
        "    canvas.paste(decoded,  (2 * width + 2, 0))\n",
        "    return canvas"
      ],
      "execution_count": 0,
      "outputs": []
    },
    {
      "cell_type": "markdown",
      "metadata": {
        "id": "lYfnqquczyhe",
        "colab_type": "text"
      },
      "source": [
        "可视化运行时间可能较长（以分钟计）"
      ]
    },
    {
      "cell_type": "code",
      "metadata": {
        "id": "zVO4lYsZo7pU",
        "colab_type": "code",
        "colab": {}
      },
      "source": [
        "visualize(inference(initialize_model(), load_test_data()))"
      ],
      "execution_count": 0,
      "outputs": []
    }
  ]
}